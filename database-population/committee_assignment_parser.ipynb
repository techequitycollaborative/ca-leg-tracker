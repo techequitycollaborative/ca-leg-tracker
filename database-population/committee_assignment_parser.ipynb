{
 "cells": [
  {
   "cell_type": "code",
   "execution_count": 1,
   "id": "3d964412-3e8c-4dfa-9a3e-6a2932a8ca57",
   "metadata": {},
   "outputs": [],
   "source": [
    "import pandas as pd\n",
    "import openpyxl"
   ]
  },
  {
   "cell_type": "markdown",
   "id": "1bbe6cc9",
   "metadata": {},
   "source": [
    "# Parsing Committee Assignment Data\n",
    "\n",
    "Since various committee websites have unpredictable underlying HTML structure, I recommend that the team creates a spreadsheet of relevant info, and this notebook will bridge the gap from these spreadsheets to the database back-end of the LegTracker tool.\n",
    "\n",
    "Outside of this notebook:\n",
    " - Download the manually created spreadsheet of committees (names with hyperlinks) and memberships\n",
    " - Connect to the database through terminal \n",
    " - Download the `legislator` table from the database into the working directory\n",
    " - Upload the resulting CSVs into the database's `committee` and `committee_assignment` tables respectively"
   ]
  },
  {
   "cell_type": "markdown",
   "id": "67f2f9ec",
   "metadata": {},
   "source": [
    "## Stage 1: Parse data for the committee table"
   ]
  },
  {
   "cell_type": "code",
   "execution_count": 2,
   "id": "2f060c54-f412-40ea-bba6-c5ee5dbcb969",
   "metadata": {},
   "outputs": [],
   "source": [
    "def _get_link_if_exists(cell) -> str | None:\n",
    "    try:\n",
    "        return cell.hyperlink.target\n",
    "    except AttributeError:\n",
    "        return None\n",
    "\n",
    "def extract_hyperlinks_from_xlsx(\n",
    "    file_name: str, sheet_name: str, columns_to_parse: list[str], row_header: int = 1\n",
    ") -> pd.DataFrame:\n",
    "    df = pd.read_excel(file_name, sheet_name)\n",
    "    ws = openpyxl.load_workbook(file_name)[sheet_name]\n",
    "    for column in columns_to_parse:\n",
    "        row_offset = row_header + 1\n",
    "        column_index = list(df.columns).index(column) + 1\n",
    "        df['webpage_link'] = [\n",
    "            _get_link_if_exists(ws.cell(row=row_offset + i, column=column_index))\n",
    "            for i in range(len(df[column]))\n",
    "        ]\n",
    "    return df\n",
    "\n",
    "def parse_for_db(df):\n",
    "    restructured = df.loc[:, [\"Committee\", \"webpage_link\"]]\n",
    "    restructured.rename(columns={\"Committee\": \"name\"}, inplace=True)\n",
    "    # CHANGE THE FOLLOWING LINE WITH A VALID CHAMBER ID\n",
    "    restructured[\"chamber_id\"] = 2 \n",
    "    restructured = restructured[[\"chamber_id\", \"name\", \"webpage_link\"]]\n",
    "    restructured.to_csv('updated_committee_table.csv', index=False)\n",
    "\n",
    "raw = extract_hyperlinks_from_xlsx(\n",
    "    'senate_cmte_assignments.xlsx',\n",
    "    'Sheet1', # CHANGE TO CORRECT SHEET NAME\n",
    "    ['Committee']\n",
    ")\n",
    "\n",
    "parse_for_db(raw)"
   ]
  },
  {
   "cell_type": "markdown",
   "id": "e76b5dd0",
   "metadata": {},
   "source": [
    "## Stage 2: Insert committee data and extract serial committee IDs\n",
    "\n",
    "When transforming committee assignment data points, we need both the `legislator` table contents and (freshly) updated `committee` table contents. The combination allows us to create the `legislator_id` and `committee_id` pairing that defines an assignment.\n",
    "\n",
    "Before running the next blocks of code, make sure to upsert the newly created committee data into the table. Then, download it to the working directory so we have access to the updated `committee_id` mapping for the following code."
   ]
  },
  {
   "cell_type": "code",
   "execution_count": 3,
   "id": "a4ff7063-16e9-4026-b382-8e93f8b06ac2",
   "metadata": {},
   "outputs": [],
   "source": [
    "db_committee = pd.read_csv('db_committee.csv')\n",
    "db_committee = db_committee.loc[db_committee.chamber_id == 2, :] # CHANGE THIS CONDITIONAL FILTER TO THE CORRECT CHAMBER ID"
   ]
  },
  {
   "cell_type": "code",
   "execution_count": 4,
   "id": "883b96f8-257b-4faf-8b4c-cd4872328622",
   "metadata": {},
   "outputs": [],
   "source": [
    "db_legislator = pd.read_csv('db_legislator.csv')\n",
    "db_legislator.rename(columns={'name': 'legislator_name'}, inplace=True)"
   ]
  },
  {
   "cell_type": "markdown",
   "id": "097c8785",
   "metadata": {},
   "source": [
    "## Stage 3: Parse Committee Assignments and Map to ID values"
   ]
  },
  {
   "cell_type": "code",
   "execution_count": 5,
   "id": "a68c0091",
   "metadata": {},
   "outputs": [],
   "source": [
    "import re\n",
    "def transform_name(name):\n",
    "    name = name.strip()\n",
    "    parts = re.split(r'\\s+', name.replace(',', ''))\n",
    "    no_title = len(name.split(\",\")) == 1\n",
    "    if no_title:\n",
    "        return f\"{parts[-1]}, {' '.join(parts[0:-1])}\"\n",
    "    else:\n",
    "        return f\"{parts[-2]}, {' '.join(parts[0:-2])}, {parts[-1].replace(',', '')}\""
   ]
  },
  {
   "cell_type": "code",
   "execution_count": 9,
   "id": "c43c093b-c407-4b5e-ba9f-060230b29e0c",
   "metadata": {},
   "outputs": [],
   "source": [
    "# each row in the raw data is a committee, total length is N committees\n",
    "# each element of the result list is a committee membership, total length is (at most) N committees * M members\n",
    "# for each cell in that row, create a sublist of the target format [committee_name, chamber_id, legislator_name, assignment_type]\n",
    "# if cell is column 0, set to \"committee_name\" value\n",
    "# if cell is column 1 or 2, assignment_type is \"chair\" or \"vice chair\"\n",
    "# if cell column >= 3, assignment_type is \"member\"\n",
    "\n",
    "def parse_assignments(df, chamber_id):\n",
    "    result = list()\n",
    "    for i in range(len(df)):\n",
    "        committee_name = df.iloc[i, 0]\n",
    "        for j in range(1, len(df.columns)):\n",
    "            cell = df.iloc[i, j]\n",
    "            if type(cell) == str: \n",
    "                if \".gov\" in cell:\n",
    "                    continue\n",
    "                else:\n",
    "                    curr = [committee_name, chamber_id, transform_name(cell)] \n",
    "                    if j == 1:\n",
    "                        curr.append(\"Chair\")\n",
    "                    elif j == 2:\n",
    "                        curr.append(\"Vice Chair\")\n",
    "                    elif \"Member\" in df.columns[j]:\n",
    "                        curr.append(\"Member\")\n",
    "                    result.append(curr)\n",
    "            else:\n",
    "                continue\n",
    "    return pd.DataFrame(result, columns=['name', 'chamber_id', 'legislator_name', 'assignment_type'])\n",
    "\n",
    "assignments = parse_assignments(raw, 2)"
   ]
  },
  {
   "cell_type": "markdown",
   "id": "6cd3b36f-f03f-4e39-9a5c-31684a23b97c",
   "metadata": {},
   "source": [
    "## Stage 4: Identify missed mappings\n",
    "\n",
    "Some legislators use variations on their full names on committee websites, or colloquially (ex: James Doe may go by Jim Doe among his staffers, who use the name \"Jim\" on his committee profile). This means that our mapping will not be perfect with our current database limitations. We need to find faulty assignment data points and manually add them to the set to be inserted into the database."
   ]
  },
  {
   "cell_type": "code",
   "execution_count": 19,
   "id": "7b8d5fed-2874-41e8-8ad7-3ca2479be88c",
   "metadata": {},
   "outputs": [
    {
     "name": "stdout",
     "output_type": "stream",
     "text": [
      "WARNING: 3 ASSIGNMENTS COULD NOT BE MAPPED. CHECK THAT *LEGISLATOR* NAMES ARE CONSISTENT\n",
      "3 rows lost\n",
      "############################################################\n",
      "     committee_id                      name  chamber_id      legislator_name  \\\n",
      "33             50  Budget and Fiscal Review           2  Padilla, Stephen C.   \n",
      "34             50  Budget and Fiscal Review           2        Roth, Richard   \n",
      "193            68                     Rules           2   Eggman, Talamantes   \n",
      "\n",
      "    assignment_type  \n",
      "33           Member  \n",
      "34           Member  \n",
      "193          Member  \n"
     ]
    }
   ],
   "source": [
    "def map_committee_id(df, committee_table):\n",
    "    validate = [len(df), 0]\n",
    "    mapped = (df.merge(committee_table.loc[:, ['committee_id', 'name']], on='name')\n",
    "              .reindex(columns=['committee_id', 'name', 'chamber_id', 'legislator_name', 'assignment_type']))\n",
    "    validate[1] = len(mapped)\n",
    "    if validate[0] != validate[1]:\n",
    "        diff = max(validate) - min(validate)\n",
    "        print(f\"WARNING: {diff} ASSIGNMENTS COULD NOT BE MAPPED. CHECK THAT *COMMITTEE* NAMES ARE CONSISTENT\")\n",
    "        return df, mapped\n",
    "    else:\n",
    "        return mapped\n",
    "\n",
    "def map_legislator_id(df, legislator_table):\n",
    "    validate = [len(df), 0]\n",
    "    mapped = (df.merge(legislator_table.loc[:,['legislator_id', 'legislator_name']], on='legislator_name')\n",
    "              .reindex(columns=['committee_id', 'name', 'chamber_id', 'legislator_name', 'assignment_type', 'legislator_id']))\n",
    "    validate[1] = len(mapped)\n",
    "    if validate[0] != validate[1]:\n",
    "        diff = max(validate) - min(validate)\n",
    "        print(f\"WARNING: {diff} ASSIGNMENTS COULD NOT BE MAPPED. CHECK THAT *LEGISLATOR* NAMES ARE CONSISTENT\")\n",
    "        return df, mapped\n",
    "    else:\n",
    "        return mapped\n",
    "\n",
    "def find_faulty_rows(before, after, column_name):\n",
    "    lost = before[~before[column_name].isin(after[column_name])]\n",
    "    added = after[~after[column_name].isin(before[column_name])]\n",
    "    if len(lost):\n",
    "        print(f\"{len(lost)} rows lost\")\n",
    "        print(\"#\"*60)\n",
    "        print(lost)\n",
    "    if len(added):\n",
    "        print(f\"{len(added)} rows added\")\n",
    "        print(added)\n",
    "    return\n",
    "\n",
    "def map_values(df, committee_table, legislator_table):\n",
    "    temp = map_committee_id(df, db_committee)\n",
    "    if type(temp) == tuple:\n",
    "        find_faulty_rows(temp[0], temp[1], 'name')\n",
    "        return temp[1]\n",
    "    result = map_legislator_id(temp, db_legislator)\n",
    "    if type(result) == tuple:\n",
    "        find_faulty_rows(result[0], result[1], 'legislator_name')\n",
    "        return result # whatever is missing can be added after manual discovery\n",
    "    return result\n",
    "\n",
    "mapped = map_values(assignments, db_committee, db_legislator)"
   ]
  },
  {
   "cell_type": "code",
   "execution_count": 18,
   "id": "842e5219-47a2-4512-beaa-e4c0067ed3db",
   "metadata": {},
   "outputs": [
    {
     "data": {
      "text/html": [
       "<div>\n",
       "<style scoped>\n",
       "    .dataframe tbody tr th:only-of-type {\n",
       "        vertical-align: middle;\n",
       "    }\n",
       "\n",
       "    .dataframe tbody tr th {\n",
       "        vertical-align: top;\n",
       "    }\n",
       "\n",
       "    .dataframe thead th {\n",
       "        text-align: right;\n",
       "    }\n",
       "</style>\n",
       "<table border=\"1\" class=\"dataframe\">\n",
       "  <thead>\n",
       "    <tr style=\"text-align: right;\">\n",
       "      <th></th>\n",
       "      <th>legislator_id</th>\n",
       "      <th>chamber_id</th>\n",
       "      <th>legislator_name</th>\n",
       "      <th>district</th>\n",
       "      <th>party</th>\n",
       "    </tr>\n",
       "  </thead>\n",
       "  <tbody>\n",
       "    <tr>\n",
       "      <th>34</th>\n",
       "      <td>35</td>\n",
       "      <td>2</td>\n",
       "      <td>Eggman, Susan Talamantes</td>\n",
       "      <td>5</td>\n",
       "      <td>Democratic</td>\n",
       "    </tr>\n",
       "  </tbody>\n",
       "</table>\n",
       "</div>"
      ],
      "text/plain": [
       "    legislator_id  chamber_id           legislator_name  district       party\n",
       "34             35           2  Eggman, Susan Talamantes         5  Democratic"
      ]
     },
     "execution_count": 18,
     "metadata": {},
     "output_type": "execute_result"
    }
   ],
   "source": [
    "# edit 'contains' argument to manually discover legislator ID\n",
    "db_legislator.loc[db_legislator.legislator_name.str.contains(\"Eggman\"),:]"
   ]
  },
  {
   "cell_type": "code",
   "execution_count": null,
   "id": "a2159a9e-ac30-4d86-b3f3-5ccbf0002885",
   "metadata": {},
   "outputs": [],
   "source": [
    "# insert assignments.loc[INDEX] and [LEGISLATOR_ID_NUMBER] manually at the end of the final DF\n",
    "before = mapped[0]\n",
    "final_df = mapped[1]\n",
    "final_df.loc[len(final_df)] = mapped[0].loc[193].tolist() + [35]"
   ]
  },
  {
   "cell_type": "code",
   "execution_count": null,
   "id": "cb17f0d9-d05c-41b2-a45b-17d2b2ae453a",
   "metadata": {},
   "outputs": [],
   "source": [
    "# drop committee name, legislator name to match Lucid\n",
    "final_df = final_df.loc[:, ['legislator_id', 'committee_id', 'assignment_type']]"
   ]
  },
  {
   "cell_type": "code",
   "execution_count": null,
   "id": "2fd7ae8d-6d4f-451d-a62b-593e83612788",
   "metadata": {},
   "outputs": [],
   "source": [
    "final_df.to_csv('committee_assignments.csv', index=False)"
   ]
  }
 ],
 "metadata": {
  "kernelspec": {
   "display_name": "Python 3 (ipykernel)",
   "language": "python",
   "name": "python3"
  },
  "language_info": {
   "codemirror_mode": {
    "name": "ipython",
    "version": 3
   },
   "file_extension": ".py",
   "mimetype": "text/x-python",
   "name": "python",
   "nbconvert_exporter": "python",
   "pygments_lexer": "ipython3",
   "version": "3.10.0"
  }
 },
 "nbformat": 4,
 "nbformat_minor": 5
}
